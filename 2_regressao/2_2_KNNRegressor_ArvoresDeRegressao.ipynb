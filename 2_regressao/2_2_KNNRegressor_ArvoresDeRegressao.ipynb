{
 "cells": [
  {
   "cell_type": "markdown",
   "metadata": {},
   "source": [
    "# O que deverei saber ao final desta sessão?\n",
    "- KNN Regressor:\n",
    "    - Como funciona?\n",
    "    - Como lidar com outliers?\n",
    "    - Como lidar com efeitos de escala?\n",
    "    - Como determinar o melhor K?\n",
    "    - Como otimizar o seu processamento?\n",
    "\n",
    "- Árvores de Regressão:\n",
    "    - O que são?\n",
    "    - Como funcionam?\n",
    "    - Como os cortes se dão?\n",
    "    - Como computo uma predição?\n",
    "    - Como lidar com outliers?\n",
    "    - Como lidar com efeitos de escala?"
   ]
  },
  {
   "cell_type": "code",
   "execution_count": null,
   "metadata": {},
   "outputs": [],
   "source": []
  },
  {
   "cell_type": "markdown",
   "metadata": {},
   "source": []
  }
 ],
 "metadata": {
  "language_info": {
   "name": "python"
  }
 },
 "nbformat": 4,
 "nbformat_minor": 2
}
