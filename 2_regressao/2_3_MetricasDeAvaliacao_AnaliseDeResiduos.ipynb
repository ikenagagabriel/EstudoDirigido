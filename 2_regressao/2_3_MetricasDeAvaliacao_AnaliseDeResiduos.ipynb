{
 "cells": [
  {
   "cell_type": "markdown",
   "metadata": {},
   "source": [
    "# O que deverei saber ao final desta sessão?\n",
    "- R²\n",
    "- R² ajustado\n",
    "- MSE\n",
    "- RMSE\n",
    "- MAE\n",
    "- MAPE\n",
    "- Feature Selection para regressão\n",
    "- Tunagem de hiperparametros para regressão\n",
    "- Análise de resíduos"
   ]
  },
  {
   "cell_type": "code",
   "execution_count": null,
   "metadata": {},
   "outputs": [],
   "source": []
  },
  {
   "cell_type": "markdown",
   "metadata": {},
   "source": []
  }
 ],
 "metadata": {
  "language_info": {
   "name": "python"
  }
 },
 "nbformat": 4,
 "nbformat_minor": 2
}
