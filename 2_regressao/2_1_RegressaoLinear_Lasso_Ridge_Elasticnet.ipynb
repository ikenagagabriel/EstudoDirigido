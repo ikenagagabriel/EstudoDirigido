{
 "cells": [
  {
   "cell_type": "markdown",
   "metadata": {},
   "source": [
    "# O que deverei saber ao final desta sessão?\n",
    "- O que é regressão?\n",
    "- O que muda de regressão para classificação? E de regressão para agrupamento?\n",
    "- Regressão Linear Simples;\n",
    "- Regressão Linear Múltipla;\n",
    "- Método dos Mínimos Quadrados;\n",
    "- Problemas da Regressão linear e como lidar com eles;\n",
    "- Regularização:\n",
    "    - Ridge (regularização l2);\n",
    "    - Lasso (regularização l1);\n",
    "    - Elastic-Net;"
   ]
  },
  {
   "cell_type": "code",
   "execution_count": null,
   "metadata": {},
   "outputs": [],
   "source": []
  },
  {
   "cell_type": "markdown",
   "metadata": {},
   "source": []
  }
 ],
 "metadata": {
  "language_info": {
   "name": "python"
  }
 },
 "nbformat": 4,
 "nbformat_minor": 2
}
