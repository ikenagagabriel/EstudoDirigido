{
 "cells": [
  {
   "cell_type": "markdown",
   "metadata": {},
   "source": [
    "#O que deverei saber ao final desta sessão?\n",
    "- O que é o GMM?\n",
    "    - O que caracteriza este algoritmo?\n",
    "    - O que é a estratégia de agrupamento baseado em distribuições?\n",
    "    - É um algoritmo paramétrico?\n",
    "    - Ele é um algoritmo soft cluster?\n",
    "    - Se sim, como funciona esse conceito no GMM?\n",
    "- Como ele funciona?\n",
    "    - O que são gaussianas?\n",
    "    - Quais são os parâmetros de uma gaussiana?\n",
    "    - Como mover uma gaussiana com mais de duas dimensões?\n",
    "    - Pense nos parâmetros;\n",
    "    - Quais parâmetros de mistura de gaussianas são importantes?\n",
    "    - O que é covariância? O que é uma matriz de covariância?\n",
    "    - Como encontrar os melhores parâmetros para as gaussianas no GMM?\n",
    "    - Expectation–maximization algorithm;\n",
    "    - Algoritmo de maximização de expectativa;\n",
    "    - Como determinar o número ideal de gaussianas?\n",
    "    - O número ideal de clusters;\n",
    "        - AIC - Akaike Information Criterium;\n",
    "        - BIC - Bayesian Information Criterion;\n",
    "        - Distância entre as gaussianas;\n",
    "    - Qual o custo computacional do GMM?\n",
    "    - Quais tipos/formas de distribuição de grupos o GMM funciona bem?\n",
    "- Quais são suas desvantagens?\n",
    "    - Como lidar com efeitos de escala no GMM?\n",
    "    - Como lidar com outliers no GMM?\n",
    "    - Como deixar o custo computacional do GMM menor?\n",
    "- Quais as vantagens do GMM?"
   ]
  },
  {
   "cell_type": "code",
   "execution_count": null,
   "metadata": {},
   "outputs": [],
   "source": []
  }
 ],
 "metadata": {
  "language_info": {
   "name": "python"
  }
 },
 "nbformat": 4,
 "nbformat_minor": 2
}
