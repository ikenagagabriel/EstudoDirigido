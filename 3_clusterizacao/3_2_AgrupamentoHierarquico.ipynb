{
 "cells": [
  {
   "cell_type": "markdown",
   "metadata": {},
   "source": [
    "# O que deverei saber ao final desta sessão?\n",
    "- O que é Agrupamento Hierárquico?\n",
    "    - O que caracteriza este algoritmo?\n",
    "    - O que é a estratégia Aglomerativa;\n",
    "    - O que é a estratégia Divisiva;\n",
    "\n",
    "- Como ele funciona?\n",
    "    - O que são hierarquias entre clusters?\n",
    "    - Quais métricas de distância entre pontos são utilizadas?\n",
    "    - O que é uma matriz de distância e para que ela serve?\n",
    "    - Quais formas podemos calcular a distância entre grupos/clusters?\n",
    "    - Single, complete, média, centróide, ward (opcional);\n",
    "    - Quais as formas que podemos representar um Agrupamento Hierárquico;\n",
    "    - Diagrama de Venn, dendrograma, matriz de distância, etc;\n",
    "    - Como funciona o Agrupamento Hierárquico Aglomerativo?\n",
    "    - Como funciona o Agrupamento Hierárquico Divisivo?\n",
    "    - Como o dendrograma pode ajudar na determinação da quantidade ideal de grupos?\n",
    "    - Qual o custo computacional do Agrupamento Hierárquico?\n",
    "    - Quais tipos/formas de distribuição de grupos o Agrupamento Hierárquico funciona bem?\n",
    "\n",
    "- Quais são suas desvantagens?\n",
    "    - Como lidar com efeitos de escala no Agrupamento Hierárquico?\n",
    "    - O que a métrica de distância pode impactar no Agrupamento Hierárquico?\n",
    "    - Como lidar com outliers no Agrupamento Hierárquico?\n",
    "    - Como deixar o custo computacional do Agrupamento Hierárquico menor?\n",
    "\n",
    "- Quais as vantagens do Agrupamento Hierárquico?"
   ]
  },
  {
   "cell_type": "code",
   "execution_count": null,
   "metadata": {},
   "outputs": [],
   "source": []
  }
 ],
 "metadata": {
  "language_info": {
   "name": "python"
  }
 },
 "nbformat": 4,
 "nbformat_minor": 2
}
