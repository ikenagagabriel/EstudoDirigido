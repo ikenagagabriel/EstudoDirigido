{
 "cells": [
  {
   "cell_type": "markdown",
   "metadata": {},
   "source": [
    "# O que deverei saber ao final desta sessão?\n",
    "- O que é agrupamento?\n",
    "\n",
    "- Qual a diferença entre agrupamento e classificação?\n",
    "- Qual a diferença entre agrupamento e regressão?\n",
    "- Quais os tipos de agrupamento?\n",
    "    - Soft Clustering, Hard Clustering;\n",
    "\n",
    "- Quais as estratégias/métodos de agrupamento?\n",
    "    - Particional, hierárquica, densidade, etc…;\n",
    "\n",
    "- Qual o objetivo de agrupar coisas?\n",
    "\n",
    "- K-Means:\n",
    "\n",
    "    - O que é K-Means?\n",
    "        - O que caracteriza este algoritmo?\n",
    "\n",
    "    - Como ele funciona?\n",
    "        - O que significa um centroide?\n",
    "        - Como inicializar um centroide?\n",
    "        - Por que a forma de inicialização importa?\n",
    "        - Quais são as formas de inicialização mais conhecidas?\n",
    "        - Quais métricas de distâncias mais utilizadas no K-Means?\n",
    "        - Como determinar o melhor K?\n",
    "        - O que é a inércia?\n",
    "        - Qual o custo computacional do K-Means?\n",
    "\n",
    "    - Quais são suas desvantagens?\n",
    "        - Como lidar com efeitos de escala no K-Means?\n",
    "        - O que a métrica de distância pode impactar no K-Means?\n",
    "        - Como lidar com outliers no K-Means?\n",
    "        - Como deixar o custo computacional do K-Means menor?\n",
    "\n",
    "    - Quais suas vantagens?\n",
    "\n",
    "    - O que é o K-Medians?\n",
    "        - Por que usamos ele?\n",
    "        - Quais suas vantagens e desvantagens?\n",
    "\n",
    "    - O que é K-Medoids?\n",
    "        - O que é um Medoid?\n",
    "        - Por que usamos ele?\n",
    "        - Quais suas vantagens e desvantagens?\n",
    "\n",
    "    - O que é Mini Batch K-Means\n",
    "\n",
    "    - O que é o Bisect K-Means?"
   ]
  },
  {
   "cell_type": "code",
   "execution_count": null,
   "metadata": {},
   "outputs": [],
   "source": []
  }
 ],
 "metadata": {
  "language_info": {
   "name": "python"
  }
 },
 "nbformat": 4,
 "nbformat_minor": 2
}
