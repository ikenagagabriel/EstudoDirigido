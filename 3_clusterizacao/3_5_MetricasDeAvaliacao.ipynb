{
 "cells": [
  {
   "cell_type": "markdown",
   "metadata": {},
   "source": [
    "# O que deverei saber ao final desta sessão?\n",
    "- O que é avaliação de agrupamento?\n",
    "    - Como saber se o meu agrupamento está bom?\n",
    "    - Qual a quantidade de grupos ideias?\n",
    "        - Como funciona a avaliação de agrupamento?\n",
    "- Quais descritivas podemos usar para avaliar agrupamento?\n",
    "    - Visualizações -> Gráficos: radar, spider, dendrograma etc.;\n",
    "    - Usar algoritmos de classificação para interpretar os grupos -> Árvore de Decisão, Regressão Logística, etc.;\n",
    "- Métricas de avaliação de agrupamento:\n",
    "    - O que são métricas que medem intra-cluster (internos)?\n",
    "    - O que são métricas que medem extra-cluster (externos)?\n",
    "    - Podemos combinar métricas intra e extra cluster (relativos)?\n",
    "    - Coeficiente de silhueta;\n",
    "        - Que tipo de métrica é esta?\n",
    "        - Qual o seu domínio?\n",
    "        - Quais são suas vantagens e desvantagens?\n",
    "        - Coeficiente de silhueta simplificado;\n",
    "    - Davies-Bouldin Index;\n",
    "        - Que tipo de métrica é esta?\n",
    "        - Qual o seu domínio?\n",
    "        - Quais são suas vantagens e desvantagens?\n",
    "    - Calinski-Harabaz Index;\n",
    "        - Que tipo de métrica é esta?\n",
    "        - Qual o seu domínio?\n",
    "        - Quais são suas vantagens e desvantagens?"
   ]
  },
  {
   "cell_type": "code",
   "execution_count": null,
   "metadata": {},
   "outputs": [],
   "source": []
  }
 ],
 "metadata": {
  "language_info": {
   "name": "python"
  }
 },
 "nbformat": 4,
 "nbformat_minor": 2
}
