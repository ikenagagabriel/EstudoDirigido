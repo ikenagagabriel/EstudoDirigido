{
 "cells": [
  {
   "cell_type": "markdown",
   "metadata": {},
   "source": [
    "# O que deverei saber ao final desta sessão?\n",
    "- O que é o DBSCAN?\n",
    "    - O que caracteriza este algoritmo?\n",
    "    - O que é a estratégia baseada em densidade;\n",
    "- Como ele funciona?\n",
    "    - O que são regiões densas e não densas?\n",
    "    - Quais métricas de distância entre pontos são utilizadas?\n",
    "    - Quais são as definições de densidade deste algoritmo: vizinhança, ponto central, ponto de borda, alcance direto, alcance e ponto ruído?\n",
    "    - O que representa minPts (mínimo de pontos)?\n",
    "    - O que representa eps (raio)?\n",
    "    - Como os clusters são formados?\n",
    "    - Como determinar o melhor minPts?\n",
    "    - Como determinar o melhor eps?\n",
    "    - O que o Algoritmo OPTICS tem a ver com o DBSCAN?\n",
    "    - Qual o custo computacional do DBSCAN?\n",
    "    - Quais tipos/formas de distribuição de grupos o DBSCAN funciona bem?\n",
    "    - o Quais são suas desvantagens?\n",
    "- Como lidar com efeitos de escala no DBSCAN?\n",
    "    - O que a métrica de distância pode impactar no DBSCAN?\n",
    "    - Como lidar com outliers no DBSCAN?\n",
    "    - Como deixar o custo computacional do DBSCAN menor?\n",
    "- Quais as vantagens do DBSCAN?"
   ]
  },
  {
   "cell_type": "code",
   "execution_count": null,
   "metadata": {},
   "outputs": [],
   "source": []
  }
 ],
 "metadata": {
  "language_info": {
   "name": "python"
  }
 },
 "nbformat": 4,
 "nbformat_minor": 2
}
