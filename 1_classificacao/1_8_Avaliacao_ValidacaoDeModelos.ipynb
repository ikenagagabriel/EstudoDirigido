{
 "cells": [
  {
   "cell_type": "markdown",
   "metadata": {},
   "source": [
    "# O que deverei saber ao final desta sessão?\n",
    "- Como avaliar a performance dos modelos de classificação?\n",
    "    - Matriz de confusão;\n",
    "        - Acurácia;\n",
    "        - Precisão;\n",
    "        - Revocação (Recall);\n",
    "        - F1-Score;\n",
    "    - ROC e AUC;\n",
    "    - Ponto de corte;\n",
    "    - Curva Precision-Recall;\n",
    "- Como validar meu modelo?\n",
    "    - Validação cruzada;\n",
    "        - Holdout;\n",
    "        - K-Fold;\n",
    "        - Leave-one-out;\n",
    "        - Out-of-time;\n",
    "- Como encontrar os melhores hiperparâmetros?\n",
    "    - GridSearch;\n",
    "    - Random Search;\n",
    "    - HyperOpt Sklearn (opcional);\n",
    "    - Optuna (opcional);\n",
    "- Como selecionar as melhores features? (Feature Selection):\n",
    "    - Método gráfico;\n",
    "    - Correlação;\n",
    "    - Variância;\n",
    "        - Baixa e alta;\n",
    "        - Variáveis categóricas e numéricas;\n",
    "    - Feature Importance;\n",
    "    - Permutation importance;\n",
    "    - Recursive Feature Elimination;\n",
    "    - Boruta (opcional);"
   ]
  },
  {
   "cell_type": "code",
   "execution_count": null,
   "metadata": {},
   "outputs": [],
   "source": []
  },
  {
   "cell_type": "markdown",
   "metadata": {},
   "source": []
  }
 ],
 "metadata": {
  "language_info": {
   "name": "python"
  }
 },
 "nbformat": 4,
 "nbformat_minor": 2
}
