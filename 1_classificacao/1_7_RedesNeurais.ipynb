{
 "cells": [
  {
   "cell_type": "markdown",
   "metadata": {},
   "source": [
    "# O que deverei saber ao final desta sessão?\n",
    "- O que é um perceptron?\n",
    "- Quais são suas premissas?\n",
    "- Qual a estrutura de um neurônio artificial?\n",
    "- O que é função de ativação?\n",
    "- Como funciona um perceptron?\n",
    "- O que é uma MLP (Multilayer Perceptron)?\n",
    "- Como funciona uma MLP?\n",
    "- O que é propagação para frente e para trás?\n",
    "- Como atualizar os pesos da rede? (Backpropagation)\n",
    "- O que é Gradiente Descendente e como funciona?\n",
    "- Quais as vantagens da MLP?\n",
    "- Quais as desvantagens da MLP?\n",
    "- Como podemos lidar com estas desvantagens?"
   ]
  },
  {
   "cell_type": "code",
   "execution_count": null,
   "metadata": {},
   "outputs": [],
   "source": []
  }
 ],
 "metadata": {
  "language_info": {
   "name": "python"
  }
 },
 "nbformat": 4,
 "nbformat_minor": 2
}
