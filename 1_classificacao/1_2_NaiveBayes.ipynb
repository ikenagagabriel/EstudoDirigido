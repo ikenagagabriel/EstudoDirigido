{
 "cells": [
  {
   "cell_type": "markdown",
   "metadata": {},
   "source": [
    "# O que deverei saber ao final desta sessão?\n",
    "- O que é o Teorema de Bayes?\n",
    "- Como o Teorema de Bayes é aplicado em classificação?\n",
    "- O que é o algoritmo Naive Bayes?\n",
    "- O algoritmo Naive Bayes só é aplicado em classificação?\n",
    "- Quais são as suas premissas? O que é a hipótese de independência condicional?\n",
    "- Como ele funciona?\n",
    "- O que é Multinomial Naive Bayes?\n",
    "- O que é Gaussian Naive Bayes?\n",
    "- O que é Bernoulli Naive Bayes?\n",
    "- Qual a diferença entre estes três tipos de Naive Bayes? Quando usar cada um deles?\n",
    "- O desbalanceamento de classes afeta o Naive Bayes?\n",
    "- O que é correção laplaciana ou smoothing?\n",
    "- Efeitos de escala impactam o Naive Bayes?\n",
    "- Como os outliers impactam o Naive Bayes?\n",
    "- Vantagens?\n",
    "- Desvantagens? (Como lidar com as desvantagens?)\n",
    "- Qual o custo computacional do Naive Bayes?\n",
    "- Compare com os algoritmos estudados anteriormente!"
   ]
  },
  {
   "cell_type": "code",
   "execution_count": null,
   "metadata": {},
   "outputs": [],
   "source": []
  },
  {
   "cell_type": "markdown",
   "metadata": {},
   "source": []
  }
 ],
 "metadata": {
  "language_info": {
   "name": "python"
  }
 },
 "nbformat": 4,
 "nbformat_minor": 2
}
