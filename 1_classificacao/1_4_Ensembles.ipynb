{
 "cells": [
  {
   "cell_type": "markdown",
   "metadata": {},
   "source": [
    "# O que deverei saber ao final desta sessão?\n",
    "- O que é ensemble?\n",
    "- Qual objetivo de ensemble em machine learning?\n",
    "- Qual a relação com o Trade Off viés-variância;\n",
    "- O que é bagging? Qual o objetivo dele?\n",
    "- O que é bootstrap?\n",
    "- O que é o Random Forest?\n",
    "- Como o Random Forest funciona?\n",
    "- O que é boosting? Qual o objetivo dele?\n",
    "- O que é o ADA Boosting?\n",
    "- Como o ADA Boosting funciona?\n",
    "- O que é Stacking? Qual o objetivo dele?\n",
    "- Como o Stacking funciona?"
   ]
  },
  {
   "cell_type": "code",
   "execution_count": null,
   "metadata": {},
   "outputs": [],
   "source": []
  }
 ],
 "metadata": {
  "language_info": {
   "name": "python"
  }
 },
 "nbformat": 4,
 "nbformat_minor": 2
}
