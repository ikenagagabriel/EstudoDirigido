{
 "cells": [
  {
   "cell_type": "markdown",
   "metadata": {},
   "source": [
    "# O que deverei saber ao final desta sessão?\n",
    "- O que são árvores de decisão?\n",
    "- Como é uma estrutura de árvore?\n",
    "- Como lemos esta estrutura de árvore/grafo?\n",
    "- Como estas estruturas podem ser interpretadas em dimensões?\n",
    "- Como elas funcionam?\n",
    "- Como se dá o corte das árvores de decisão? Existe uma métrica de corte melhor? (Gini, entropia e ganho de informação)\n",
    "- Como funciona o corte para variáveis numéricas? E para categóricas?\n",
    "- Vamos criar um pseudocódigo do algoritmo;\n",
    "- Como funciona a pós-poda e a pré-poda?\n",
    "- Quais são as vantagens de uma árvore de decisão?\n",
    "- Quais são as desvantagens? Como podemos contornar isso?\n",
    "- Qual a complexidade computacional? Ela é rápida?"
   ]
  },
  {
   "cell_type": "code",
   "execution_count": null,
   "metadata": {},
   "outputs": [],
   "source": []
  },
  {
   "cell_type": "markdown",
   "metadata": {},
   "source": []
  }
 ],
 "metadata": {
  "language_info": {
   "name": "python"
  }
 },
 "nbformat": 4,
 "nbformat_minor": 2
}
