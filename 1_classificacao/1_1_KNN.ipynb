{
 "cells": [
  {
   "cell_type": "markdown",
   "metadata": {},
   "source": [
    "# O que deverei saber ao final desta sessão?\n",
    "- O que é classificação? O que são algoritmos para classificação?\n",
    "- O que é o algoritmo KNN?\n",
    "- Como ele funciona?\n",
    "- Como as medidas de distância podem impactar o KNN?\n",
    "- Como a escala impacta o KNN? Como podemos corrigir o problema de escala?\n",
    "- Como os outliers impactam o KNN?\n",
    "- Como podemos tornar o KNN mais rápido? (KD Tree, Ball Tree)\n",
    "- Quais funções de votação podemos usar? (Só o voto majoritário?)\n",
    "- Vantagens? Desvantagens? (Como lidar com as desvantagens?)"
   ]
  },
  {
   "cell_type": "code",
   "execution_count": null,
   "metadata": {},
   "outputs": [],
   "source": []
  }
 ],
 "metadata": {
  "language_info": {
   "name": "python"
  }
 },
 "nbformat": 4,
 "nbformat_minor": 2
}
