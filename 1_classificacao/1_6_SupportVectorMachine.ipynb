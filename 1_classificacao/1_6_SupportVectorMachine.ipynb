{
 "cells": [
  {
   "cell_type": "markdown",
   "metadata": {},
   "source": [
    "# O que deverei saber ao final desta sessão?\n",
    "- O que é SVM?\n",
    "- O que é um Hiperplano?\n",
    "- Quais são suas premissas?\n",
    "- O que são os vetores de suporte?\n",
    "- O que é Hard Margin?\n",
    "- O que é Soft Margin?\n",
    "- O que é uma função de Kernel?\n",
    "- O que é um Kernel Linear, Kernel Polinomial e Kernel Radial?\n",
    "- O que se faz quando se tem mais de 2 classes para ser classificadas?"
   ]
  },
  {
   "cell_type": "code",
   "execution_count": null,
   "metadata": {},
   "outputs": [],
   "source": []
  }
 ],
 "metadata": {
  "language_info": {
   "name": "python"
  }
 },
 "nbformat": 4,
 "nbformat_minor": 2
}
