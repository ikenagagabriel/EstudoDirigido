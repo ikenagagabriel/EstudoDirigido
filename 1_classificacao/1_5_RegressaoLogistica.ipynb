{
 "cells": [
  {
   "cell_type": "markdown",
   "metadata": {},
   "source": [
    "# O que deverei saber ao final desta sessão?\n",
    "- O que é regressão logística?\n",
    "- Motivação da regressão logística? Por que ela tem \"regressão\" no nome?\n",
    "- O que é uma função logística/sigmoide?\n",
    "- Como interpretar a expressão matemática da regressão logística?\n",
    "- Como ajustar os parâmetros da regressão logística?\n",
    "- Conseguimos interpretar esses betas? Além de ajustar a melhor curva, será que eles trazem mais alguma informação?"
   ]
  },
  {
   "cell_type": "code",
   "execution_count": null,
   "metadata": {},
   "outputs": [],
   "source": []
  }
 ],
 "metadata": {
  "language_info": {
   "name": "python"
  }
 },
 "nbformat": 4,
 "nbformat_minor": 2
}
